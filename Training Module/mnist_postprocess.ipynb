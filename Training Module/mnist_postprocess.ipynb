{
 "cells": [
  {
   "cell_type": "markdown",
   "id": "3c55a05e-663a-43ad-a4e3-51bf894deffb",
   "metadata": {},
   "source": [
    "# Load required modules"
   ]
  },
  {
   "cell_type": "code",
   "execution_count": 24,
   "id": "56e41733-ba60-4e85-8002-59a95b77e5f4",
   "metadata": {
    "tags": []
   },
   "outputs": [],
   "source": [
    "from __future__ import print_function\n",
    "import torch\n",
    "import torch.nn as nn\n",
    "import torch.nn.functional as F\n",
    "import torch.optim as optim\n",
    "from torchvision import datasets, transforms\n",
    "from torch.optim.lr_scheduler import StepLR\n",
    "import matplotlib.pyplot as plt"
   ]
  },
  {
   "cell_type": "markdown",
   "id": "376c3b80-8a3e-4d13-bfe1-7ceda0393203",
   "metadata": {
    "tags": []
   },
   "source": [
    "# Test function to test trained model"
   ]
  },
  {
   "cell_type": "code",
   "execution_count": 17,
   "id": "20bd9f2f-7288-4c33-a6d4-0fbc2bc1d33a",
   "metadata": {
    "tags": []
   },
   "outputs": [],
   "source": [
    "def test(model, device, test_loader):\n",
    "    model.eval()\n",
    "    test_loss = 0\n",
    "    correct = 0\n",
    "    with torch.no_grad():\n",
    "        for data, target in test_loader:\n",
    "            data, target = data.to(device), target.to(device)\n",
    "            output = model(data)\n",
    "            test_loss += F.nll_loss(output, target, reduction='sum').item()  # sum up batch loss\n",
    "            pred = output.argmax(dim=1, keepdim=True)  # get the index of the max log-probability\n",
    "            correct += pred.eq(target.view_as(pred)).sum().item()\n",
    "\n",
    "    test_loss /= len(test_loader.dataset)\n",
    "\n",
    "    print('\\nTest set: Average loss: {:.4f}, Accuracy: {}/{} ({:.0f}%)\\n'.format(\n",
    "        test_loss, correct, len(test_loader.dataset),\n",
    "        100. * correct / len(test_loader.dataset)))\n",
    "    \n",
    "    return data, target"
   ]
  },
  {
   "cell_type": "markdown",
   "id": "29734101-bb8d-4c26-822a-447b77909250",
   "metadata": {
    "tags": []
   },
   "source": [
    "# Load Neural Network"
   ]
  },
  {
   "cell_type": "code",
   "execution_count": 18,
   "id": "081fcb1b-819b-4b7b-b50f-9209f44bf292",
   "metadata": {
    "tags": []
   },
   "outputs": [],
   "source": [
    "#Adapted from https://github.com/pytorch/examples/tree/main/mnist\n",
    "class Net(nn.Module):\n",
    "    def __init__(self):\n",
    "        super(Net, self).__init__()\n",
    "        self.conv1 = nn.Conv2d(1, 32, 3, 1)\n",
    "        self.conv2 = nn.Conv2d(32, 64, 3, 1)\n",
    "        self.dropout1 = nn.Dropout(0.25)\n",
    "        self.dropout2 = nn.Dropout(0.5)\n",
    "        self.fc1 = nn.Linear(9216, 128)\n",
    "        self.fc2 = nn.Linear(128, 10)\n",
    "\n",
    "    def forward(self, x):\n",
    "        x = self.conv1(x)\n",
    "        x = F.relu(x)\n",
    "        x = self.conv2(x)\n",
    "        x = F.relu(x)\n",
    "        x = F.max_pool2d(x, 2)\n",
    "        x = self.dropout1(x)\n",
    "        x = torch.flatten(x, 1)\n",
    "        x = self.fc1(x)\n",
    "        x = F.relu(x)\n",
    "        x = self.dropout2(x)\n",
    "        x = self.fc2(x)\n",
    "        output = F.log_softmax(x, dim=1)\n",
    "        return output"
   ]
  },
  {
   "cell_type": "markdown",
   "id": "d964d80a-97d9-447a-ab99-22a31b306ff1",
   "metadata": {
    "tags": []
   },
   "source": [
    "# Load test dataset and model checkpoint"
   ]
  },
  {
   "cell_type": "code",
   "execution_count": 19,
   "id": "09aefd09-21ce-46c5-ad53-1edb2a025356",
   "metadata": {
    "tags": []
   },
   "outputs": [
    {
     "data": {
      "text/plain": [
       "Net(\n",
       "  (conv1): Conv2d(1, 32, kernel_size=(3, 3), stride=(1, 1))\n",
       "  (conv2): Conv2d(32, 64, kernel_size=(3, 3), stride=(1, 1))\n",
       "  (dropout1): Dropout(p=0.25, inplace=False)\n",
       "  (dropout2): Dropout(p=0.5, inplace=False)\n",
       "  (fc1): Linear(in_features=9216, out_features=128, bias=True)\n",
       "  (fc2): Linear(in_features=128, out_features=10, bias=True)\n",
       ")"
      ]
     },
     "execution_count": 19,
     "metadata": {},
     "output_type": "execute_result"
    }
   ],
   "source": [
    "dataset_mnist = torch.load('test_dataset_mnist.pth')\n",
    "test_loader = torch.utils.data.DataLoader(dataset_mnist)\n",
    "\n",
    "model = Net()\n",
    "model.load_state_dict(torch.load(\"mnist_cnn.pt\"))\n",
    "model.eval()"
   ]
  },
  {
   "cell_type": "markdown",
   "id": "125ca8d6-bb72-4616-bcb3-4d1b9824a084",
   "metadata": {
    "tags": []
   },
   "source": [
    "# Prints test loss"
   ]
  },
  {
   "cell_type": "code",
   "execution_count": 22,
   "id": "72dd215c-1c23-465d-b662-88d6cf9cc639",
   "metadata": {
    "tags": []
   },
   "outputs": [
    {
     "name": "stdout",
     "output_type": "stream",
     "text": [
      "\n",
      "Test set: Average loss: 0.3283, Accuracy: 9053/10000 (91%)\n",
      "\n"
     ]
    }
   ],
   "source": [
    "device = 'cpu'\n",
    "preds, target = test(model, device, test_loader)"
   ]
  },
  {
   "cell_type": "markdown",
   "id": "0acba979-c9f1-46cf-b924-bf74bd359ebc",
   "metadata": {},
   "source": [
    "# Plot example sample"
   ]
  },
  {
   "cell_type": "code",
   "execution_count": 40,
   "id": "92d84ea9-d569-4651-921f-320e64e68cc1",
   "metadata": {
    "tags": []
   },
   "outputs": [
    {
     "data": {
      "image/png": "[encoded data removed]",
      "text/plain": [
       "<Figure size 432x288 with 1 Axes>"
      ]
     },
     "metadata": {
      "needs_background": "light"
     },
     "output_type": "display_data"
    }
   ],
   "source": [
    "fig = plt.figure\n",
    "plt.imshow(preds.squeeze(0).squeeze(0), cmap='gray_r')\n",
    "plt.title('Label: {}'.format(target.item()))\n",
    "plt.show()"
   ]
  },
  {
   "cell_type": "code",
   "execution_count": null,
   "id": "3426a9f2-2e5a-486a-997f-043f0de7e7b3",
   "metadata": {},
   "outputs": [],
   "source": []
  },
  {
   "cell_type": "code",
   "execution_count": null,
   "id": "04f54235-4013-4f3f-9c96-a79d7b31282a",
   "metadata": {},
   "outputs": [],
   "source": []
  }
 ],
 "metadata": {
  "kernelspec": {
   "display_name": "Python 3 (ipykernel)",
   "language": "python",
   "name": "python3"
  },
  "language_info": {
   "codemirror_mode": {
    "name": "ipython",
    "version": 3
   },
   "file_extension": ".py",
   "mimetype": "text/x-python",
   "name": "python",
   "nbconvert_exporter": "python",
   "pygments_lexer": "ipython3",
   "version": "3.9.8"
  }
 },
 "nbformat": 4,
 "nbformat_minor": 5
}
