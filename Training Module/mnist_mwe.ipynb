{
 "cells": [
  {
   "cell_type": "markdown",
   "id": "a6e5b294-3ecc-4758-97a9-6792455c4796",
   "metadata": {},
   "source": [
    "# Load required modules"
   ]
  },
  {
   "cell_type": "code",
   "execution_count": 1,
   "id": "3f848d10-70b1-4469-8e89-96fa4e286d8b",
   "metadata": {
    "execution": {
     "iopub.execute_input": "2023-03-10T15:17:34.345130Z",
     "iopub.status.busy": "2023-03-10T15:17:34.344440Z",
     "iopub.status.idle": "2023-03-10T15:17:34.749091Z",
     "shell.execute_reply": "2023-03-10T15:17:34.749548Z"
    },
    "papermill": {
     "duration": 0.432572,
     "end_time": "2023-03-10T15:17:34.749692",
     "exception": false,
     "start_time": "2023-03-10T15:17:34.317120",
     "status": "completed"
    },
    "tags": []
   },
   "outputs": [
    {
     "name": "stderr",
     "output_type": "stream",
     "text": [
      "/usr/local/lib/python3.9/site-packages/tqdm/auto.py:21: TqdmWarning: IProgress not found. Please update jupyter and ipywidgets. See https://ipywidgets.readthedocs.io/en/stable/user_install.html\n",
      "  from .autonotebook import tqdm as notebook_tqdm\n"
     ]
    }
   ],
   "source": [
    "from __future__ import print_function\n",
    "import torch\n",
    "import torch.nn as nn\n",
    "import torch.nn.functional as F\n",
    "import torch.optim as optim\n",
    "from torchvision import datasets, transforms\n",
    "from torch.optim.lr_scheduler import StepLR"
   ]
  },
  {
   "cell_type": "markdown",
   "id": "3ccb00bb-867d-48e5-bf84-93a5e2e95b96",
   "metadata": {},
   "source": [
    "# Class to define the neural network"
   ]
  },
  {
   "cell_type": "code",
   "execution_count": 2,
   "id": "dc829b6e-7ec3-457b-9150-78c84806d2a2",
   "metadata": {
    "execution": {
     "iopub.execute_input": "2023-03-10T15:17:34.757665Z",
     "iopub.status.busy": "2023-03-10T15:17:34.757230Z",
     "iopub.status.idle": "2023-03-10T15:17:34.758664Z",
     "shell.execute_reply": "2023-03-10T15:17:34.758943Z"
    },
    "papermill": {
     "duration": 0.00769,
     "end_time": "2023-03-10T15:17:34.759080",
     "exception": false,
     "start_time": "2023-03-10T15:17:34.751390",
     "status": "completed"
    },
    "tags": []
   },
   "outputs": [],
   "source": [
    "#Adapted from https://github.com/pytorch/examples/tree/main/mnist\n",
    "class Net(nn.Module):\n",
    "    def __init__(self):\n",
    "        super(Net, self).__init__()\n",
    "        self.conv1 = nn.Conv2d(1, 32, 3, 1)\n",
    "        self.conv2 = nn.Conv2d(32, 64, 3, 1)\n",
    "        self.dropout1 = nn.Dropout(0.25)\n",
    "        self.dropout2 = nn.Dropout(0.5)\n",
    "        self.fc1 = nn.Linear(9216, 128)\n",
    "        self.fc2 = nn.Linear(128, 10)\n",
    "\n",
    "    def forward(self, x):\n",
    "        x = self.conv1(x)\n",
    "        x = F.relu(x)\n",
    "        x = self.conv2(x)\n",
    "        x = F.relu(x)\n",
    "        x = F.max_pool2d(x, 2)\n",
    "        x = self.dropout1(x)\n",
    "        x = torch.flatten(x, 1)\n",
    "        x = self.fc1(x)\n",
    "        x = F.relu(x)\n",
    "        x = self.dropout2(x)\n",
    "        x = self.fc2(x)\n",
    "        output = F.log_softmax(x, dim=1)\n",
    "        return output"
   ]
  },
  {
   "cell_type": "markdown",
   "id": "825ecbdd-90c0-4c3c-8a03-1c2de0a8b92a",
   "metadata": {
    "papermill": {
     "duration": 0.001258,
     "end_time": "2023-03-10T15:17:34.761640",
     "exception": false,
     "start_time": "2023-03-10T15:17:34.760382",
     "status": "completed"
    },
    "tags": []
   },
   "source": [
    "# Neural network trainer function"
   ]
  },
  {
   "cell_type": "code",
   "execution_count": 3,
   "id": "8509419b-1c29-41bf-99a2-3c3e729a9a36",
   "metadata": {
    "execution": {
     "iopub.execute_input": "2023-03-10T15:17:34.767992Z",
     "iopub.status.busy": "2023-03-10T15:17:34.767558Z",
     "iopub.status.idle": "2023-03-10T15:17:34.768916Z",
     "shell.execute_reply": "2023-03-10T15:17:34.769275Z"
    },
    "papermill": {
     "duration": 0.006537,
     "end_time": "2023-03-10T15:17:34.769405",
     "exception": false,
     "start_time": "2023-03-10T15:17:34.762868",
     "status": "completed"
    },
    "tags": []
   },
   "outputs": [],
   "source": [
    "def train(model, device, train_loader, optimizer, epoch):\n",
    "    model.train()\n",
    "    for batch_idx, (data, target) in enumerate(train_loader):\n",
    "        data, target = data.to(device), target.to(device)\n",
    "        optimizer.zero_grad()\n",
    "        output = model(data)\n",
    "        loss = F.nll_loss(output, target)\n",
    "        loss.backward()\n",
    "        optimizer.step()\n",
    "        if batch_idx % 10 == 0:\n",
    "            print('Train Epoch: {} [{}/{} ({:.0f}%)]\\tLoss: {:.6f}'.format(\n",
    "                epoch, batch_idx * len(data), len(train_loader.dataset),\n",
    "                100. * batch_idx / len(train_loader), loss.item()))"
   ]
  },
  {
   "cell_type": "markdown",
   "id": "e1108efe-75b0-445e-9309-5d40039f8196",
   "metadata": {
    "papermill": {
     "duration": 0.001223,
     "end_time": "2023-03-10T15:17:34.771989",
     "exception": false,
     "start_time": "2023-03-10T15:17:34.770766",
     "status": "completed"
    },
    "tags": []
   },
   "source": [
    "# Main function - calls the trainer and save the trained model to file"
   ]
  },
  {
   "cell_type": "code",
   "execution_count": 4,
   "id": "14e2dd9d-1c6a-4a1d-a754-e7840ec53724",
   "metadata": {
    "execution": {
     "iopub.execute_input": "2023-03-10T15:17:34.779114Z",
     "iopub.status.busy": "2023-03-10T15:17:34.778653Z",
     "iopub.status.idle": "2023-03-10T15:17:34.780171Z",
     "shell.execute_reply": "2023-03-10T15:17:34.780523Z"
    },
    "papermill": {
     "duration": 0.007476,
     "end_time": "2023-03-10T15:17:34.780647",
     "exception": false,
     "start_time": "2023-03-10T15:17:34.773171",
     "status": "completed"
    },
    "tags": []
   },
   "outputs": [],
   "source": [
    "def main():\n",
    "    epochs = 1\n",
    "    lr = 0.01\n",
    "    gamma = 0.03\n",
    "    use_cuda = 0\n",
    "    save_model = 1\n",
    "    device = torch.device(\"cpu\")\n",
    "    train_kwargs = {'batch_size': 100}\n",
    "    test_kwargs = {'batch_size': 10}\n",
    "    if use_cuda:\n",
    "        cuda_kwargs = {'num_workers': 1,\n",
    "                       'pin_memory': True,\n",
    "                       'shuffle': True}\n",
    "        train_kwargs.update(cuda_kwargs)\n",
    "\n",
    "    dataset_mnist = torch.load('train_dataset_mnist.pth')\n",
    "    train_loader = torch.utils.data.DataLoader(dataset_mnist,**train_kwargs)\n",
    "\n",
    "    model = Net().to(device)\n",
    "    optimizer = optim.Adadelta(model.parameters(), lr)\n",
    "\n",
    "    scheduler = StepLR(optimizer, step_size=1, gamma=gamma)\n",
    "    for epoch in range(1, epochs + 1):\n",
    "        train(model, device, train_loader, optimizer, epoch)\n",
    "        #test(model, device, test_loader)\n",
    "        scheduler.step()\n",
    "\n",
    "    if save_model:\n",
    "        torch.save(model.state_dict(), \"mnist_cnn.pt\")"
   ]
  },
  {
   "cell_type": "code",
   "execution_count": 5,
   "id": "d48ab404-c46b-4325-8dca-e31d70a10dfb",
   "metadata": {
    "execution": {
     "iopub.execute_input": "2023-03-10T15:17:34.787904Z",
     "iopub.status.busy": "2023-03-10T15:17:34.787439Z",
     "iopub.status.idle": "2023-03-10T14:39:18.865546Z",
     "shell.execute_reply": "2023-03-10T14:39:18.865823Z"
    },
    "papermill": {
     "duration": null,
     "end_time": null,
     "exception": false,
     "start_time": "2023-03-10T15:17:34.784370",
     "status": "running"
    },
    "tags": []
   },
   "outputs": [
    {
     "name": "stdout",
     "output_type": "stream",
     "text": [
      "Train Epoch: 1 [0/60000 (0%)]\tLoss: 2.283808\n",
      "Train Epoch: 1 [1000/60000 (2%)]\tLoss: 2.246888\n",
      "Train Epoch: 1 [2000/60000 (3%)]\tLoss: 2.187686\n",
      "Train Epoch: 1 [3000/60000 (5%)]\tLoss: 2.113077\n",
      "Train Epoch: 1 [4000/60000 (7%)]\tLoss: 2.018864\n",
      "Train Epoch: 1 [5000/60000 (8%)]\tLoss: 1.917313\n",
      "Train Epoch: 1 [6000/60000 (10%)]\tLoss: 1.631829\n",
      "Train Epoch: 1 [7000/60000 (12%)]\tLoss: 1.584600\n",
      "Train Epoch: 1 [8000/60000 (13%)]\tLoss: 1.403944\n",
      "Train Epoch: 1 [9000/60000 (15%)]\tLoss: 1.294302\n",
      "Train Epoch: 1 [10000/60000 (17%)]\tLoss: 1.209682\n",
      "Train Epoch: 1 [11000/60000 (18%)]\tLoss: 0.964514\n",
      "Train Epoch: 1 [12000/60000 (20%)]\tLoss: 1.028847\n",
      "Train Epoch: 1 [13000/60000 (22%)]\tLoss: 1.258839\n",
      "Train Epoch: 1 [14000/60000 (23%)]\tLoss: 0.916509\n",
      "Train Epoch: 1 [15000/60000 (25%)]\tLoss: 0.722350\n",
      "Train Epoch: 1 [16000/60000 (27%)]\tLoss: 1.127907\n",
      "Train Epoch: 1 [17000/60000 (28%)]\tLoss: 0.935521\n",
      "Train Epoch: 1 [18000/60000 (30%)]\tLoss: 0.845479\n",
      "Train Epoch: 1 [19000/60000 (32%)]\tLoss: 0.861990\n",
      "Train Epoch: 1 [20000/60000 (33%)]\tLoss: 0.897126\n",
      "Train Epoch: 1 [21000/60000 (35%)]\tLoss: 0.665772\n",
      "Train Epoch: 1 [22000/60000 (37%)]\tLoss: 0.601145\n",
      "Train Epoch: 1 [23000/60000 (38%)]\tLoss: 0.794423\n",
      "Train Epoch: 1 [24000/60000 (40%)]\tLoss: 0.628907\n",
      "Train Epoch: 1 [25000/60000 (42%)]\tLoss: 0.595908\n",
      "Train Epoch: 1 [26000/60000 (43%)]\tLoss: 0.580201\n",
      "Train Epoch: 1 [27000/60000 (45%)]\tLoss: 0.640172\n",
      "Train Epoch: 1 [28000/60000 (47%)]\tLoss: 0.397265\n",
      "Train Epoch: 1 [29000/60000 (48%)]\tLoss: 0.634415\n",
      "Train Epoch: 1 [30000/60000 (50%)]\tLoss: 0.729409\n",
      "Train Epoch: 1 [31000/60000 (52%)]\tLoss: 0.640400\n",
      "Train Epoch: 1 [32000/60000 (53%)]\tLoss: 0.577581\n",
      "Train Epoch: 1 [33000/60000 (55%)]\tLoss: 0.561567\n",
      "Train Epoch: 1 [34000/60000 (57%)]\tLoss: 0.632497\n",
      "Train Epoch: 1 [35000/60000 (58%)]\tLoss: 0.501525\n",
      "Train Epoch: 1 [36000/60000 (60%)]\tLoss: 0.675521\n",
      "Train Epoch: 1 [37000/60000 (62%)]\tLoss: 0.684572\n",
      "Train Epoch: 1 [38000/60000 (63%)]\tLoss: 0.575692\n",
      "Train Epoch: 1 [39000/60000 (65%)]\tLoss: 0.424639\n",
      "Train Epoch: 1 [40000/60000 (67%)]\tLoss: 0.467146\n",
      "Train Epoch: 1 [41000/60000 (68%)]\tLoss: 0.537036\n",
      "Train Epoch: 1 [42000/60000 (70%)]\tLoss: 0.444361\n",
      "Train Epoch: 1 [43000/60000 (72%)]\tLoss: 0.695065\n",
      "Train Epoch: 1 [44000/60000 (73%)]\tLoss: 0.450393\n",
      "Train Epoch: 1 [45000/60000 (75%)]\tLoss: 0.688942\n",
      "Train Epoch: 1 [46000/60000 (77%)]\tLoss: 0.679765\n",
      "Train Epoch: 1 [47000/60000 (78%)]\tLoss: 0.533223\n",
      "Train Epoch: 1 [48000/60000 (80%)]\tLoss: 0.538804\n",
      "Train Epoch: 1 [49000/60000 (82%)]\tLoss: 0.748714\n",
      "Train Epoch: 1 [50000/60000 (83%)]\tLoss: 0.513540\n",
      "Train Epoch: 1 [51000/60000 (85%)]\tLoss: 0.316956\n"
     ]
    }
   ],
   "source": [
    "if __name__ == '__main__':\n",
    "    main()"
   ]
  },
  {
   "cell_type": "code",
   "execution_count": null,
   "id": "96d91c76-564c-4c8c-b470-206e7f6e6de6",
   "metadata": {
    "papermill": {
     "duration": null,
     "end_time": null,
     "exception": null,
     "start_time": null,
     "status": "pending"
    },
    "tags": []
   },
   "outputs": [],
   "source": []
  }
 ],
 "metadata": {
  "kernelspec": {
   "display_name": "Python 3 (ipykernel)",
   "language": "python",
   "name": "python3"
  },
  "language_info": {
   "codemirror_mode": {
    "name": "ipython",
    "version": 3
   },
   "file_extension": ".py",
   "mimetype": "text/x-python",
   "name": "python",
   "nbconvert_exporter": "python",
   "pygments_lexer": "ipython3",
   "version": "3.9.8"
  },
  "papermill": {
   "default_parameters": {},
   "duration": null,
   "end_time": null,
   "environment_variables": {},
   "exception": null,
   "input_path": "/Users/rakeshsarma/Documents/interTwin/mnist_mwe.ipynb",
   "output_path": "/Users/rakeshsarma/Documents/interTwin/mnist_mwe.ipynb",
   "parameters": {},
   "start_time": "2023-03-10T15:17:33.521279",
   "version": "2.4.0"
  }
 },
 "nbformat": 4,
 "nbformat_minor": 5
}
