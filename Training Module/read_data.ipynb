{
 "cells": [
  {
   "cell_type": "markdown",
   "id": "3c91b45e-2f0b-4f14-a6a4-8319e840fa13",
   "metadata": {
    "tags": []
   },
   "source": [
    "# Load required modules"
   ]
  },
  {
   "cell_type": "code",
   "execution_count": 1,
   "id": "8543dded-2b2a-42fa-b0fa-34e173f95f2e",
   "metadata": {
    "execution": {
     "iopub.execute_input": "2023-03-10T15:23:19.738609Z",
     "iopub.status.busy": "2023-03-10T15:23:19.737939Z",
     "iopub.status.idle": "2023-03-10T15:23:20.243956Z",
     "shell.execute_reply": "2023-03-10T15:23:20.244290Z"
    },
    "papermill": {
     "duration": 0.532767,
     "end_time": "2023-03-10T15:23:20.244425",
     "exception": false,
     "start_time": "2023-03-10T15:23:19.711658",
     "status": "completed"
    },
    "tags": []
   },
   "outputs": [
    {
     "name": "stderr",
     "output_type": "stream",
     "text": [
      "/usr/local/lib/python3.9/site-packages/tqdm/auto.py:21: TqdmWarning: IProgress not found. Please update jupyter and ipywidgets. See https://ipywidgets.readthedocs.io/en/stable/user_install.html\n",
      "  from .autonotebook import tqdm as notebook_tqdm\n"
     ]
    }
   ],
   "source": [
    "import torch\n",
    "from torchvision import datasets, transforms"
   ]
  },
  {
   "cell_type": "markdown",
   "id": "3349573a-cdf1-4f88-b85b-d9e6b9c13ba4",
   "metadata": {
    "tags": []
   },
   "source": [
    "# Load and save training dataset to file "
   ]
  },
  {
   "cell_type": "code",
   "execution_count": 7,
   "id": "5bbc4802-6618-4427-b9a2-753a1f333eb7",
   "metadata": {
    "papermill": {
     "duration": 0.038445,
     "end_time": "2023-03-10T15:23:20.284135",
     "exception": false,
     "start_time": "2023-03-10T15:23:20.245690",
     "status": "completed"
    },
    "tags": []
   },
   "outputs": [],
   "source": [
    "data_dir = './data_MNIST'\n",
    "# read data \n",
    "mnist_scale = 1\n",
    "largeData = []\n",
    "for i in range(mnist_scale):\n",
    "    largeData.append(\n",
    "        datasets.MNIST(data_dir, train=True, download=False,\n",
    "        transform=transforms.Compose([\n",
    "        transforms.ToTensor(),\n",
    "        transforms.Normalize((0.1307,), (0.3081,))\n",
    "        ]))\n",
    "        )\n",
    "\n",
    "# concat data\n",
    "train_dataset = torch.utils.data.ConcatDataset(largeData)\n",
    "\n",
    "torch.save(train_dataset,'train_dataset_mnist.pth')"
   ]
  },
  {
   "cell_type": "markdown",
   "id": "4c0b47b8-2c62-401d-91cb-9296c39a6f9f",
   "metadata": {
    "papermill": {
     "duration": 0.136546,
     "end_time": "2023-03-10T15:23:20.421659",
     "exception": false,
     "start_time": "2023-03-10T15:23:20.285113",
     "status": "completed"
    },
    "tags": []
   },
   "source": [
    "# Load and save test dataset to file"
   ]
  },
  {
   "cell_type": "code",
   "execution_count": 8,
   "id": "397dd7cc-95b5-4cd2-93b3-6db9e15ac836",
   "metadata": {
    "papermill": {
     "duration": 0.000803,
     "end_time": "2023-03-10T15:23:20.423578",
     "exception": false,
     "start_time": "2023-03-10T15:23:20.422775",
     "status": "completed"
    },
    "tags": []
   },
   "outputs": [],
   "source": [
    "#test data\n",
    "# read data \n",
    "mnist_scale = 1\n",
    "largeData = []\n",
    "for i in range(mnist_scale):\n",
    "    largeData.append(\n",
    "        datasets.MNIST(data_dir, train=False, download=False,\n",
    "        transform=transforms.Compose([\n",
    "        transforms.ToTensor(),\n",
    "        transforms.Normalize((0.1307,), (0.3081,))\n",
    "        ]))\n",
    "        )\n",
    "    \n",
    "# concat data\n",
    "train_dataset = torch.utils.data.ConcatDataset(largeData)\n",
    "\n",
    "torch.save(train_dataset,'test_dataset_mnist.pth')"
   ]
  },
  {
   "cell_type": "code",
   "execution_count": null,
   "id": "4fa4ef21-c2fd-4f41-9b35-bdab92ff781b",
   "metadata": {},
   "outputs": [],
   "source": []
  }
 ],
 "metadata": {
  "kernelspec": {
   "display_name": "Python 3 (ipykernel)",
   "language": "python",
   "name": "python3"
  },
  "language_info": {
   "codemirror_mode": {
    "name": "ipython",
    "version": 3
   },
   "file_extension": ".py",
   "mimetype": "text/x-python",
   "name": "python",
   "nbconvert_exporter": "python",
   "pygments_lexer": "ipython3",
   "version": "3.9.8"
  },
  "papermill": {
   "default_parameters": {},
   "duration": 2.141047,
   "end_time": "2023-03-10T15:23:20.641654",
   "environment_variables": {},
   "exception": null,
   "input_path": "/Users/rakeshsarma/Documents/interTwin/read_data.ipynb",
   "output_path": "/Users/rakeshsarma/Documents/interTwin/read_data.ipynb",
   "parameters": {},
   "start_time": "2023-03-10T15:23:18.500607",
   "version": "2.4.0"
  }
 },
 "nbformat": 4,
 "nbformat_minor": 5
}
